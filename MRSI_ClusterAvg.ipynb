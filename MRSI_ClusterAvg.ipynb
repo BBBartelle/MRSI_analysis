{
 "cells": [
  {
   "cell_type": "code",
   "execution_count": 1,
   "metadata": {},
   "outputs": [],
   "source": [
    "# Install required packages\n",
    "#nmrpy numpy matplotlib pandas\n",
    "\n",
    "# Import required libraries\n",
    "#import nmrpy\n",
    "import numpy as np\n",
    "import matplotlib.pyplot as plt\n",
    "import pandas as pd\n",
    "import os\n",
    "import nibabel as nib\n",
    "\n",
    "from ipywidgets import interact\n",
    "import ipywidgets as widgets\n",
    "from IPython.display import display\n",
    "\n",
    "# Set up matplotlib for inline plotting in Jupyter\n",
    "%matplotlib inline\n",
    "#Having both inline and widget can cause issues, so we will use only one of them.\n",
    "#%matplotlib widget\n"
   ]
  },
  {
   "cell_type": "code",
   "execution_count": null,
   "metadata": {},
   "outputs": [],
   "source": [
    "\n",
    "RMSREF01 = np.load(\"/data/MRSI/Naren2/MRSI/RMS01_V3/RMS01_REF_unshaped.npy\")\n",
    "RMSREF02 = np.load(\"/data/MRSI/Naren2/MRSI/RMS02_V3/RMS02_REF_unshaped.npy\")\n",
    "RMSREF03 = np.load(\"/data/MRSI/Naren2/MRSI/RMS03_V3/RMS03_REF_unshaped_redone.npy\")\n",
    "RMSREF04 = np.load(\"/data/MRSI/Naren2/MRSI/RMS05_V3/RMS05_REF_unshaped_redone.npy\")\n",
    "\n",
    "CONREF1 = np.load(\"/data/MRSI/Naren2/MRSI/Control01/Control01_REF_unshaped_redone.npy\")\n",
    "CONREF2 = np.load(\"/data/MRSI/Naren2/MRSI/Control02/Control02_REF_unshaped_redone.npy\")\n",
    "CONREF3 = np.load(\"/data/MRSI/Naren2/MRSI/Control03/Control03_REF_unshaped_redone.npy\")\n",
    "CONREF4 = np.load(\"/data/MRSI/Naren2/MRSI/Control04/Control04_REF_unshaped_redone.npy\")\n"
   ]
  },
  {
   "cell_type": "code",
   "execution_count": null,
   "metadata": {},
   "outputs": [],
   "source": [
    "RMS01 = np.load(\"/data/MRSI/Naren2/MRSI/RMS01_V3/RMS01_complex_FFT_redone.nii\")\n",
    "RMS02 = np.load(\"/data/MRSI/Naren2/MRSI/RMS02_V3/RMS02_unshaped_redone.npy\")\n",
    "RMS03 = np.load(\"/data/MRSI/Naren2/MRSI/RMS03_V3/RMS03_unshaped_redone.npy\")\n",
    "RMS04 = np.load(\"/data/MRSI/Naren2/MRSI/RMS05_V3/RMS05_unshaped_redone.npy\")\n",
    "\n",
    "CON1 = np.load(\"/data/MRSI/Naren2/MRSI/Control01/Control01_unshaped_redone.npy\")\n",
    "CON2 = np.load(\"/data/MRSI/Naren2/MRSI/Control02/Control02_unshaped_redone.npy\")\n",
    "CON3 = np.load(\"/data/MRSI/Naren2/MRSI/Control03/Control03_unshaped_redone.npy\")\n",
    "CON4 = np.load(\"/data/MRSI/Naren2/MRSI/Control04/Control04_unshaped_redone.npy\")"
   ]
  },
  {
   "cell_type": "code",
   "execution_count": null,
   "metadata": {},
   "outputs": [],
   "source": []
  },
  {
   "cell_type": "code",
   "execution_count": 12,
   "metadata": {},
   "outputs": [],
   "source": [
    "RMS01 = np.array(nib.load(\"/data/MRSI/Naren2/FURI2/mayomrs_aligned/ms/RMS01/redo/ms1_arr_hy_wlabels_reshaped_labelswspectra.nii\").dataobj).reshape(131072, 2049)\n",
    "RMS02 = np.array(nib.load(\"/data/MRSI/Naren2/FURI2/mayomrs_aligned/ms/RMS02/redo/ms2_arr_hy_wlabels_reshaped_labelswspectra.nii\").dataobj).reshape(131072, 2049)\n",
    "RMS03 = np.array(nib.load(\"/data/MRSI/Naren2/FURI2/mayomrs_aligned/ms/RMS03/redo/ms3_arr_hy_wlabels_reshaped_labelswspectra.nii\").dataobj).reshape(131072, 2049)\n",
    "RMS04 = np.array(nib.load(\"/data/MRSI/Naren2/FURI2/mayomrs_aligned/ms/RMS05/redo/ms5_arr_hy_wlabels_reshaped_labelswspectra.nii\").dataobj).reshape(131072, 2049)"
   ]
  },
  {
   "cell_type": "markdown",
   "metadata": {},
   "source": [
    "Shape is 32X64X64X2049 with element 2049 as the label from cPCA"
   ]
  },
  {
   "cell_type": "code",
   "execution_count": 6,
   "metadata": {},
   "outputs": [
    {
     "ename": "IndexError",
     "evalue": "index 200 is out of bounds for axis 0 with size 32",
     "output_type": "error",
     "traceback": [
      "\u001b[0;31m---------------------------------------------------------------------------\u001b[0m",
      "\u001b[0;31mIndexError\u001b[0m                                Traceback (most recent call last)",
      "Cell \u001b[0;32mIn[6], line 3\u001b[0m\n\u001b[1;32m      1\u001b[0m \u001b[38;5;66;03m#RMS01 = np.load(\"/data/MRSI/Naren2/MRSI/RMS02_V3/RMS02_unshaped_redone.npy\")\u001b[39;00m\n\u001b[1;32m      2\u001b[0m \u001b[38;5;66;03m# Plot the random data\u001b[39;00m\n\u001b[0;32m----> 3\u001b[0m plt\u001b[38;5;241m.\u001b[39mplot(\u001b[43mRMS01\u001b[49m\u001b[43m[\u001b[49m\u001b[38;5;241;43m200\u001b[39;49m\u001b[43m,\u001b[49m\u001b[43m:\u001b[49m\u001b[43m]\u001b[49m, marker\u001b[38;5;241m=\u001b[39m\u001b[38;5;124m'\u001b[39m\u001b[38;5;124mo\u001b[39m\u001b[38;5;124m'\u001b[39m)\n\u001b[1;32m      4\u001b[0m plt\u001b[38;5;241m.\u001b[39mtitle(\u001b[38;5;124m\"\u001b[39m\u001b[38;5;124mPlot of RMS01 Data\u001b[39m\u001b[38;5;124m\"\u001b[39m)\n\u001b[1;32m      5\u001b[0m plt\u001b[38;5;241m.\u001b[39mxlabel(\u001b[38;5;124m\"\u001b[39m\u001b[38;5;124mIndex\u001b[39m\u001b[38;5;124m\"\u001b[39m)\n",
      "\u001b[0;31mIndexError\u001b[0m: index 200 is out of bounds for axis 0 with size 32"
     ]
    }
   ],
   "source": [
    "#RMS01 = np.load(\"/data/MRSI/Naren2/MRSI/RMS02_V3/RMS02_unshaped_redone.npy\")\n",
    "# Plot the random data\n",
    "plt.plot(RMS01[200,:], marker='o')\n",
    "plt.title(\"Plot of RMS01 Data\")\n",
    "plt.xlabel(\"Index\")\n",
    "plt.ylabel(\"Value\")\n",
    "plt.show()"
   ]
  },
  {
   "cell_type": "code",
   "execution_count": null,
   "metadata": {},
   "outputs": [],
   "source": []
  }
 ],
 "metadata": {
  "kernelspec": {
   "display_name": "nmr_analysis",
   "language": "python",
   "name": "python3"
  },
  "language_info": {
   "codemirror_mode": {
    "name": "ipython",
    "version": 3
   },
   "file_extension": ".py",
   "mimetype": "text/x-python",
   "name": "python",
   "nbconvert_exporter": "python",
   "pygments_lexer": "ipython3",
   "version": "3.8.20"
  }
 },
 "nbformat": 4,
 "nbformat_minor": 2
}
